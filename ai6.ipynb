{
 "cells": [
  {
   "cell_type": "code",
   "execution_count": 22,
   "id": "8fbab809",
   "metadata": {},
   "outputs": [
    {
     "name": "stdout",
     "output_type": "stream",
     "text": [
      "Requirement already satisfied: zhipuai in c:\\programdata\\anaconda3\\lib\\site-packages (2.1.5.20230904)\n",
      "Requirement already satisfied: pydantic<3.0,>=1.9.0 in c:\\programdata\\anaconda3\\lib\\site-packages (from zhipuai) (2.10.0)\n",
      "Requirement already satisfied: cachetools>=4.2.2 in c:\\programdata\\anaconda3\\lib\\site-packages (from zhipuai) (5.5.0)\n",
      "Requirement already satisfied: httpx>=0.23.0 in c:\\programdata\\anaconda3\\lib\\site-packages (from zhipuai) (0.27.2)\n",
      "Requirement already satisfied: pyjwt<2.9.0,>=2.8.0 in c:\\programdata\\anaconda3\\lib\\site-packages (from zhipuai) (2.8.0)\n",
      "Requirement already satisfied: pydantic-core>=2.14.6 in c:\\programdata\\anaconda3\\lib\\site-packages (from zhipuai) (2.27.0)\n",
      "Requirement already satisfied: idna in c:\\programdata\\anaconda3\\lib\\site-packages (from httpx>=0.23.0->zhipuai) (3.2)\n",
      "Requirement already satisfied: certifi in c:\\programdata\\anaconda3\\lib\\site-packages (from httpx>=0.23.0->zhipuai) (2021.10.8)\n",
      "Requirement already satisfied: httpcore==1.* in c:\\programdata\\anaconda3\\lib\\site-packages (from httpx>=0.23.0->zhipuai) (1.0.7)\n",
      "Requirement already satisfied: sniffio in c:\\programdata\\anaconda3\\lib\\site-packages (from httpx>=0.23.0->zhipuai) (1.2.0)\n",
      "Requirement already satisfied: anyio in c:\\programdata\\anaconda3\\lib\\site-packages (from httpx>=0.23.0->zhipuai) (2.2.0)\n",
      "Requirement already satisfied: h11<0.15,>=0.13 in c:\\programdata\\anaconda3\\lib\\site-packages (from httpcore==1.*->httpx>=0.23.0->zhipuai) (0.14.0)\n",
      "Requirement already satisfied: typing-extensions>=4.12.2 in c:\\programdata\\anaconda3\\lib\\site-packages (from pydantic<3.0,>=1.9.0->zhipuai) (4.12.2)\n",
      "Requirement already satisfied: annotated-types>=0.6.0 in c:\\programdata\\anaconda3\\lib\\site-packages (from pydantic<3.0,>=1.9.0->zhipuai) (0.7.0)\n"
     ]
    }
   ],
   "source": [
    "!pip install zhipuai"
   ]
  },
  {
   "cell_type": "code",
   "execution_count": 23,
   "id": "a95eb4b4",
   "metadata": {},
   "outputs": [
    {
     "name": "stdout",
     "output_type": "stream",
     "text": [
      "VideoObject(id=None, model='cogvideox', video_result=[VideoResult(url='https://aigc-files.bigmodel.cn/api/cogvideo/85eff26c-a7e7-11ef-a354-628f45da38f5_0.mp4', cover_image_url='https://aigc-files.bigmodel.cn/api/cogvideo/85eff26c-a7e7-11ef-a354-628f45da38f5_cover_0.jpeg')], task_status='SUCCESS', request_id='-9221302583678625764')\n"
     ]
    }
   ],
   "source": [
    "from zhipuai import ZhipuAI\n",
    "client = ZhipuAI(api_key = '4568a9e4c9e48fabadc120752d79e81d.Fgv3cCPHiCR5lNUa')\n",
    "\n",
    "response = client.videos.retrieve_videos_result(\n",
    "    id= '54911732179518170-9221302583678625763'\n",
    ")\n",
    "print(response)"
   ]
  },
  {
   "cell_type": "code",
   "execution_count": 24,
   "id": "e3813be6",
   "metadata": {},
   "outputs": [
    {
     "name": "stdout",
     "output_type": "stream",
     "text": [
      "VideoObject(id='54911732179518170-9221302205721118710', model='cogvideox', video_result=None, task_status='PROCESSING', request_id='-9221302205721118711')\n"
     ]
    }
   ],
   "source": [
    "from zhipuai import ZhipuAI\n",
    "client = ZhipuAI(api_key=\"4568a9e4c9e48fabadc120752d79e81d.Fgv3cCPHiCR5lNUa\")\n",
    "response = client.videos.generations(\n",
    "    model=\"cogvideox\",\n",
    "    prompt=\"一个满头白发的老奶奶去倒垃圾\"\n",
    ")\n",
    "print(response)"
   ]
  },
  {
   "cell_type": "code",
   "execution_count": null,
   "id": "4095513c",
   "metadata": {},
   "outputs": [],
   "source": []
  }
 ],
 "metadata": {
  "kernelspec": {
   "display_name": "Python 3 (ipykernel)",
   "language": "python",
   "name": "python3"
  },
  "language_info": {
   "codemirror_mode": {
    "name": "ipython",
    "version": 3
   },
   "file_extension": ".py",
   "mimetype": "text/x-python",
   "name": "python",
   "nbconvert_exporter": "python",
   "pygments_lexer": "ipython3",
   "version": "3.9.7"
  }
 },
 "nbformat": 4,
 "nbformat_minor": 5
}
